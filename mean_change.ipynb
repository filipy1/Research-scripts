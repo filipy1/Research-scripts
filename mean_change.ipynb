{
 "cells": [
  {
   "cell_type": "code",
   "execution_count": 2,
   "metadata": {},
   "outputs": [],
   "source": [
    "import pandas as pd\n",
    "import numpy as np\n",
    "import plotly.express as px\n",
    "from tqdm.auto import tqdm"
   ]
  },
  {
   "cell_type": "code",
   "execution_count": 3,
   "metadata": {},
   "outputs": [],
   "source": [
    "df = pd.read_csv(r\"/Users/yotamhadari/Desktop/SOLIO/Group_1_SOLIO2407.csv\", index_col=[0,1])\n",
    "group_df = pd.read_csv(r\"/Users/yotamhadari/Desktop/SOLIO/Device_type_group_1.csv\", index_col=[0])"
   ]
  },
  {
   "cell_type": "code",
   "execution_count": 4,
   "metadata": {},
   "outputs": [
    {
     "data": {
      "text/html": [
       "<div>\n",
       "<style scoped>\n",
       "    .dataframe tbody tr th:only-of-type {\n",
       "        vertical-align: middle;\n",
       "    }\n",
       "\n",
       "    .dataframe tbody tr th {\n",
       "        vertical-align: top;\n",
       "    }\n",
       "\n",
       "    .dataframe thead th {\n",
       "        text-align: right;\n",
       "    }\n",
       "</style>\n",
       "<table border=\"1\" class=\"dataframe\">\n",
       "  <thead>\n",
       "    <tr style=\"text-align: right;\">\n",
       "      <th></th>\n",
       "      <th>Device type</th>\n",
       "    </tr>\n",
       "    <tr>\n",
       "      <th>User ID</th>\n",
       "      <th></th>\n",
       "    </tr>\n",
       "  </thead>\n",
       "  <tbody>\n",
       "    <tr>\n",
       "      <th>1</th>\n",
       "      <td>real</td>\n",
       "    </tr>\n",
       "    <tr>\n",
       "      <th>2</th>\n",
       "      <td>sham</td>\n",
       "    </tr>\n",
       "    <tr>\n",
       "      <th>3</th>\n",
       "      <td>sham</td>\n",
       "    </tr>\n",
       "    <tr>\n",
       "      <th>4</th>\n",
       "      <td>sham</td>\n",
       "    </tr>\n",
       "    <tr>\n",
       "      <th>5</th>\n",
       "      <td>real</td>\n",
       "    </tr>\n",
       "  </tbody>\n",
       "</table>\n",
       "</div>"
      ],
      "text/plain": [
       "        Device type\n",
       "User ID            \n",
       "1              real\n",
       "2              sham\n",
       "3              sham\n",
       "4              sham\n",
       "5              real"
      ]
     },
     "execution_count": 4,
     "metadata": {},
     "output_type": "execute_result"
    }
   ],
   "source": [
    "df.head()\n",
    "group_df.head()"
   ]
  },
  {
   "cell_type": "markdown",
   "metadata": {},
   "source": [
    "we want to calculate the difference between each participant's answers to the previous one."
   ]
  },
  {
   "cell_type": "code",
   "execution_count": 5,
   "metadata": {},
   "outputs": [],
   "source": [
    "def create_indiviudal_user_dfs(df):\n",
    "    \"\"\"Create a dictionary where keys are user_n and values and individual answer df for that user.\"\"\"\n",
    "    users_dfs = {}\n",
    "    for user in df.index.get_level_values(0).drop_duplicates():  # Used later\n",
    "        users_dfs[f\"{user}\"] = df.loc[df.index.get_level_values(0) == user]\n",
    "    return users_dfs"
   ]
  },
  {
   "cell_type": "code",
   "execution_count": 32,
   "metadata": {},
   "outputs": [],
   "source": [
    "users_dict = create_indiviudal_user_dfs(df)\n",
    "user_1 = users_dict['3']\n",
    "user_1.head(10)\n",
    "\n",
    "\n",
    "def harvesting_mean_median(user_df, periods_to_check=30):\n",
    "    \"\"\"harvesting a participant's answers to a questionnaire for it's mean and median change in values\"\"\"\n",
    "    user_mean_median = {}\n",
    "    diff_per = 1\n",
    "    while len(user_mean_median.keys()) < len(user_df.columns):\n",
    "        user_diff = user_df.diff(periods=diff_per)\n",
    "        user_desc = user_diff.describe()\n",
    "        user_desc.replace(np.nan, 'NaN', inplace=True)\n",
    "        diff_per += 1\n",
    "        for column in (user_df.columns):\n",
    "            \n",
    "            if user_desc.loc['mean', column] != 'NaN':\n",
    "                user_mean_median[column] = {'mean':user_desc.loc['mean', column], 'median': user_desc.loc['mean', column]}\n",
    "\n",
    "        if diff_per > periods_to_check:\n",
    "\n",
    "            for column in (user_df.columns):\n",
    "\n",
    "                if column not in user_mean_median.keys():\n",
    "                    user_mean_median[column] = {'mean': 'NEA', 'median': 'NEA'} # not enough answers\n",
    "            break\n",
    "    return user_mean_median"
   ]
  },
  {
   "cell_type": "code",
   "execution_count": 33,
   "metadata": {},
   "outputs": [
    {
     "data": {
      "text/plain": [
       "{'real': [1, 5, 7, 9, 16, 17, 21, 13, 14], 'sham': [2, 3, 4, 18, 20]}"
      ]
     },
     "execution_count": 33,
     "metadata": {},
     "output_type": "execute_result"
    }
   ],
   "source": [
    "group_dict = {}\n",
    "for group in group_df.iloc[:, 0].drop_duplicates():\n",
    "    group_dict[group] = list(group_df.loc[group_df.iloc[:,0] == group].index)\n",
    "\n",
    "group_dict"
   ]
  },
  {
   "cell_type": "code",
   "execution_count": 35,
   "metadata": {},
   "outputs": [
    {
     "name": "stdout",
     "output_type": "stream",
     "text": [
      "20\n",
      "7\n",
      "1\n",
      "9\n",
      "16\n",
      "21\n",
      "5\n",
      "2\n",
      "18\n",
      "14\n",
      "13\n",
      "17\n",
      "3\n",
      "4\n"
     ]
    }
   ],
   "source": [
    "users_dfs = \n",
    "for user in users_dict.keys():\n",
    "    "
   ]
  },
  {
   "cell_type": "code",
   "execution_count": null,
   "metadata": {},
   "outputs": [],
   "source": []
  }
 ],
 "metadata": {
  "kernelspec": {
   "display_name": "Python 3.10.4 64-bit ('3.10.4')",
   "language": "python",
   "name": "python3"
  },
  "language_info": {
   "codemirror_mode": {
    "name": "ipython",
    "version": 3
   },
   "file_extension": ".py",
   "mimetype": "text/x-python",
   "name": "python",
   "nbconvert_exporter": "python",
   "pygments_lexer": "ipython3",
   "version": "3.10.4"
  },
  "orig_nbformat": 4,
  "vscode": {
   "interpreter": {
    "hash": "a42421f6bbb1b182c730ba9258662115f4e7f3aaf334537e2ae83b2214cbfb4c"
   }
  }
 },
 "nbformat": 4,
 "nbformat_minor": 2
}

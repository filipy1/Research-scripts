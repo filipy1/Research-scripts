{
 "cells": [
  {
   "cell_type": "code",
   "execution_count": 81,
   "metadata": {},
   "outputs": [],
   "source": [
    "import pandas as pd\n",
    "import numpy as np\n",
    "import plotly.express as px\n",
    "from tqdm.auto import tqdm\n",
    "from scipy import stats\n",
    "\n",
    "import jupyter_black\n",
    "\n",
    "jupyter_black.load()"
   ]
  },
  {
   "cell_type": "code",
   "execution_count": 82,
   "metadata": {},
   "outputs": [],
   "source": [
    "df = pd.read_csv(\n",
    "    r\"/Users/yotamhadari/Desktop/SOLIO/Group_1_SOLIO_0408.csv\", index_col=[0, 1]\n",
    ")\n",
    "group_df = pd.read_csv(\n",
    "    r\"/Users/yotamhadari/Desktop/SOLIO/Device_type_group_1.csv\", index_col=[0]\n",
    ")"
   ]
  },
  {
   "cell_type": "code",
   "execution_count": 83,
   "metadata": {},
   "outputs": [
    {
     "data": {
      "text/plain": [
       "{'real': [1, 5, 7, 9, 16, 17, 21, 13, 14], 'sham': [2, 3, 4, 18, 20]}"
      ]
     },
     "execution_count": 83,
     "metadata": {},
     "output_type": "execute_result"
    }
   ],
   "source": [
    "group_dict = {}\n",
    "for group in group_df.iloc[:, 0].drop_duplicates():\n",
    "    group_dict[group] = list(group_df.loc[group_df.iloc[:, 0] == group].index)\n",
    "\n",
    "group_dict\n",
    "# group_dict = {\"real\": [1, 5, 7, 9, 16, 17, 13, 14, 21], \"sham\": [2, 3, 4, 18, 20]}"
   ]
  },
  {
   "cell_type": "code",
   "execution_count": 84,
   "metadata": {},
   "outputs": [],
   "source": [
    "df[\"group\"] = [group_df.loc[i, \"Device type\"] for i in df.index.get_level_values(0)]\n",
    "df_reals = df.loc[df[\"group\"] == \"real\"].drop(\"group\", axis=1)\n",
    "df_shams = df.loc[df[\"group\"] == \"sham\"].drop(\"group\", axis=1)"
   ]
  },
  {
   "cell_type": "code",
   "execution_count": 85,
   "metadata": {},
   "outputs": [],
   "source": [
    "a = df_reals[\"Pain VAS\"]\n",
    "b = df_shams[\"Pain VAS\"]"
   ]
  },
  {
   "cell_type": "code",
   "execution_count": 86,
   "metadata": {},
   "outputs": [
    {
     "data": {
      "text/plain": [
       "masked_array(data=[0.05028433, 0.27484498, 0.34964966, 0.00821671,\n",
       "                   0.21707306, 0.20064142, 0.8631002 , 0.01972261,\n",
       "                   0.22622036, 0.86442278, 0.15173047],\n",
       "             mask=False,\n",
       "       fill_value=1e+20)"
      ]
     },
     "execution_count": 86,
     "metadata": {},
     "output_type": "execute_result"
    }
   ],
   "source": [
    "t, pt = stats.ttest_ind(df_reals, df_shams, nan_policy=\"omit\", random_state=42)\n",
    "pt"
   ]
  },
  {
   "cell_type": "code",
   "execution_count": 87,
   "metadata": {},
   "outputs": [
    {
     "data": {
      "text/plain": [
       "array([0.04286173, 0.37377577, 0.41251719, 0.03420416, 0.16433368,\n",
       "       0.23721627, 0.79777562, 0.02860011, 0.73204854, 0.49188224,\n",
       "       0.36529668])"
      ]
     },
     "execution_count": 87,
     "metadata": {},
     "output_type": "execute_result"
    }
   ],
   "source": [
    "u, pu = stats.mannwhitneyu(df_reals, df_shams, nan_policy=\"omit\")\n",
    "pu"
   ]
  },
  {
   "cell_type": "markdown",
   "metadata": {},
   "source": [
    "## Creating difference dataframes and running analysis"
   ]
  },
  {
   "cell_type": "code",
   "execution_count": 88,
   "metadata": {},
   "outputs": [],
   "source": [
    "df = pd.read_csv(\n",
    "    r\"/Users/yotamhadari/Desktop/SOLIO/Group_1_SOLIO_0408.csv\", index_col=[0, 1]\n",
    ")\n",
    "\n",
    "\n",
    "def create_indiviudal_user_dfs(df):\n",
    "    \"\"\"Create a dictionary where keys are user_n and values and individual answer df for that user.\"\"\"\n",
    "    users_dfs = {}\n",
    "    for user in df.index.get_level_values(0).drop_duplicates():  # Used later\n",
    "        users_dfs[user] = df.loc[df.index.get_level_values(0) == user]\n",
    "    return users_dfs\n",
    "\n",
    "\n",
    "users_dfs = create_indiviudal_user_dfs(df)"
   ]
  },
  {
   "cell_type": "code",
   "execution_count": 89,
   "metadata": {},
   "outputs": [],
   "source": [
    "diff_users = {}\n",
    "for user in users_dfs.keys():\n",
    "    user_df = users_dfs[user]\n",
    "    user_df_vas = user_df[\"Pain VAS\"].diff(periods=1)\n",
    "    user_df_rest = user_df.iloc[:, 1:].diff(5)\n",
    "    user_df = pd.concat((user_df_vas, user_df_rest), axis=1)\n",
    "    diff_users[user] = user_df\n",
    "diff_df = pd.concat(diff_users).droplevel(0)\n",
    "diff_df.dropna(how=\"all\", inplace=True)"
   ]
  },
  {
   "cell_type": "code",
   "execution_count": 90,
   "metadata": {},
   "outputs": [],
   "source": [
    "diff_df[\"group\"] = [\n",
    "    group_df.loc[i, \"Device type\"] for i in diff_df.index.get_level_values(0)\n",
    "]\n",
    "diff_df_reals = diff_df.loc[diff_df[\"group\"] == \"real\"].drop(\"group\", axis=1)\n",
    "diff_df_shams = diff_df.loc[diff_df[\"group\"] == \"sham\"].drop(\"group\", axis=1)"
   ]
  },
  {
   "cell_type": "code",
   "execution_count": 91,
   "metadata": {},
   "outputs": [
    {
     "data": {
      "text/plain": [
       "masked_array(data=[0.89811369, 0.80572892, 0.83634946, 0.61523497,\n",
       "                   0.47796129, 0.18243975, 0.6458223 , 0.47039149,\n",
       "                   0.20241567, 0.40444223, 0.90253256],\n",
       "             mask=False,\n",
       "       fill_value=1e+20)"
      ]
     },
     "execution_count": 91,
     "metadata": {},
     "output_type": "execute_result"
    }
   ],
   "source": [
    "t, pt = stats.ttest_ind(\n",
    "    diff_df_reals, diff_df_shams, nan_policy=\"omit\", random_state=42\n",
    ")\n",
    "pt"
   ]
  },
  {
   "cell_type": "code",
   "execution_count": 92,
   "metadata": {},
   "outputs": [
    {
     "data": {
      "text/plain": [
       "array([0.43656435, 0.92273998, 0.59690568, 0.79710649, 0.62388602,\n",
       "       0.23182971, 0.60088819, 0.53669614, 0.5911679 , 0.43297155,\n",
       "       0.82024611])"
      ]
     },
     "execution_count": 92,
     "metadata": {},
     "output_type": "execute_result"
    }
   ],
   "source": [
    "u, pu = stats.mannwhitneyu(diff_df_reals, diff_df_shams, nan_policy=\"omit\")\n",
    "pu"
   ]
  },
  {
   "cell_type": "code",
   "execution_count": 93,
   "metadata": {},
   "outputs": [],
   "source": [
    "pct_change_users = {}\n",
    "for user in users_dfs.keys():\n",
    "    user_df = users_dfs[user]\n",
    "    user_df_vas = user_df[\"Pain VAS\"].pct_change(periods=1)\n",
    "    user_df_rest = user_df.iloc[:, 1:].pct_change(5)\n",
    "    user_df = pd.concat((user_df_vas, user_df_rest), axis=1)\n",
    "    pct_change_users[user] = user_df\n",
    "pct_change_df = pd.concat(diff_users).droplevel(0)\n",
    "pct_change_df.dropna(how=\"all\", inplace=True)"
   ]
  },
  {
   "cell_type": "code",
   "execution_count": 94,
   "metadata": {},
   "outputs": [],
   "source": [
    "pct_change_df[\"group\"] = [\n",
    "    group_df.loc[i, \"Device type\"] for i in pct_change_df.index.get_level_values(0)\n",
    "]\n",
    "pct_change_df_reals = diff_df.loc[diff_df[\"group\"] == \"real\"].drop(\"group\", axis=1)\n",
    "pct_change_df_shams = diff_df.loc[diff_df[\"group\"] == \"sham\"].drop(\"group\", axis=1)"
   ]
  },
  {
   "cell_type": "code",
   "execution_count": 95,
   "metadata": {},
   "outputs": [
    {
     "data": {
      "text/plain": [
       "masked_array(data=[0.89811369, 0.80572892, 0.83634946, 0.61523497,\n",
       "                   0.47796129, 0.18243975, 0.6458223 , 0.47039149,\n",
       "                   0.20241567, 0.40444223, 0.90253256],\n",
       "             mask=False,\n",
       "       fill_value=1e+20)"
      ]
     },
     "execution_count": 95,
     "metadata": {},
     "output_type": "execute_result"
    }
   ],
   "source": [
    "t, pct_tp = stats.ttest_ind(\n",
    "    pct_change_df_reals, pct_change_df_shams, nan_policy=\"omit\", random_state=42\n",
    ")\n",
    "pct_tp"
   ]
  },
  {
   "cell_type": "code",
   "execution_count": 96,
   "metadata": {},
   "outputs": [
    {
     "data": {
      "text/plain": [
       "array([0.43656435, 0.92273998, 0.59690568, 0.79710649, 0.62388602,\n",
       "       0.23182971, 0.60088819, 0.53669614, 0.5911679 , 0.43297155,\n",
       "       0.82024611])"
      ]
     },
     "execution_count": 96,
     "metadata": {},
     "output_type": "execute_result"
    }
   ],
   "source": [
    "u, pct_pu = stats.mannwhitneyu(\n",
    "    pct_change_df_reals, pct_change_df_shams, nan_policy=\"omit\"\n",
    ")\n",
    "pct_pu\n"
   ]
  },
  {
   "cell_type": "code",
   "execution_count": null,
   "metadata": {},
   "outputs": [],
   "source": []
  },
  {
   "cell_type": "code",
   "execution_count": 98,
   "metadata": {},
   "outputs": [
    {
     "data": {
      "text/plain": [
       "array([ True,  True,  True,  True,  True,  True,  True,  True,  True,\n",
       "        True,  True])"
      ]
     },
     "execution_count": 98,
     "metadata": {},
     "output_type": "execute_result"
    }
   ],
   "source": []
  },
  {
   "cell_type": "code",
   "execution_count": null,
   "metadata": {},
   "outputs": [],
   "source": []
  }
 ],
 "metadata": {
  "kernelspec": {
   "display_name": "Python 3.10.4 64-bit ('3.10.4')",
   "language": "python",
   "name": "python3"
  },
  "language_info": {
   "codemirror_mode": {
    "name": "ipython",
    "version": 3
   },
   "file_extension": ".py",
   "mimetype": "text/x-python",
   "name": "python",
   "nbconvert_exporter": "python",
   "pygments_lexer": "ipython3",
   "version": "3.10.4"
  },
  "orig_nbformat": 4,
  "vscode": {
   "interpreter": {
    "hash": "a42421f6bbb1b182c730ba9258662115f4e7f3aaf334537e2ae83b2214cbfb4c"
   }
  }
 },
 "nbformat": 4,
 "nbformat_minor": 2
}
